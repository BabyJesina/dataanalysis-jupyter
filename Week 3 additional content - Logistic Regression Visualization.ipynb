{
 "cells": [
  {
   "cell_type": "markdown",
   "metadata": {},
   "source": [
    "### Additional Content: Plotting Logistic Regression\n",
    "\n",
    "#Logistic Regression is used in for making predictions of a binary categorical variable.\n",
    "#E.g.: finding out whether a person is Covid19 positive or not (Yes/No which is binary outcome)."
   ]
  },
  {
   "cell_type": "code",
   "execution_count": 67,
   "metadata": {},
   "outputs": [],
   "source": [
    "# code for getting multiple outputs from a jupyter cell\n",
    "from IPython.core.interactiveshell import InteractiveShell\n",
    "InteractiveShell.ast_node_interactivity = \"all\""
   ]
  },
  {
   "cell_type": "code",
   "execution_count": 68,
   "metadata": {},
   "outputs": [],
   "source": [
    "# Importing libraries for plotting and for creating data \n",
    "import matplotlib.pyplot as plt\n",
    "import numpy as np"
   ]
  },
  {
   "cell_type": "markdown",
   "metadata": {},
   "source": [
    "#In this notebook, we will try to understand the linear function and sigmoid function \n",
    "#Linear function is mathematical formula behind linear regression \n",
    "#Sigmoid function is mathematical formula behind logistic regression"
   ]
  },
  {
   "cell_type": "markdown",
   "metadata": {},
   "source": [
    "#### Linear Function"
   ]
  },
  {
   "cell_type": "code",
   "execution_count": 74,
   "metadata": {},
   "outputs": [
    {
     "data": {
      "text/plain": [
       "80"
      ]
     },
     "execution_count": 74,
     "metadata": {},
     "output_type": "execute_result"
    },
    {
     "data": {
      "text/plain": [
       "array([-20. , -19.5, -19. , -18.5, -18. , -17.5, -17. , -16.5, -16. ,\n",
       "       -15.5, -15. , -14.5, -14. , -13.5, -13. , -12.5, -12. , -11.5,\n",
       "       -11. , -10.5, -10. ,  -9.5,  -9. ,  -8.5,  -8. ,  -7.5,  -7. ,\n",
       "        -6.5,  -6. ,  -5.5,  -5. ,  -4.5,  -4. ,  -3.5,  -3. ,  -2.5,\n",
       "        -2. ,  -1.5,  -1. ,  -0.5,   0. ,   0.5,   1. ,   1.5,   2. ,\n",
       "         2.5,   3. ,   3.5,   4. ,   4.5,   5. ,   5.5,   6. ,   6.5,\n",
       "         7. ,   7.5,   8. ,   8.5,   9. ,   9.5,  10. ,  10.5,  11. ,\n",
       "        11.5,  12. ,  12.5,  13. ,  13.5,  14. ,  14.5,  15. ,  15.5,\n",
       "        16. ,  16.5,  17. ,  17.5,  18. ,  18.5,  19. ,  19.5])"
      ]
     },
     "execution_count": 74,
     "metadata": {},
     "output_type": "execute_result"
    }
   ],
   "source": [
    "#Define an array with equally spaced values\n",
    "# np.arange works on numerical ranges and is used to define array with equally spaced values\n",
    "#structure: np.arange(start, stop, step)\n",
    "\n",
    "x = np.arange(-20, 20, 0.5)\n",
    "len(x)\n",
    "x"
   ]
  },
  {
   "cell_type": "code",
   "execution_count": 84,
   "metadata": {
    "collapsed": true
   },
   "outputs": [
    {
     "data": {
      "text/plain": [
       "80"
      ]
     },
     "execution_count": 84,
     "metadata": {},
     "output_type": "execute_result"
    },
    {
     "data": {
      "text/plain": [
       "array([   0.        ,    1.26582278,    2.53164557,    3.79746835,\n",
       "          5.06329114,    6.32911392,    7.59493671,    8.86075949,\n",
       "         10.12658228,   11.39240506,   12.65822785,   13.92405063,\n",
       "         15.18987342,   16.4556962 ,   17.72151899,   18.98734177,\n",
       "         20.25316456,   21.51898734,   22.78481013,   24.05063291,\n",
       "         25.3164557 ,   26.58227848,   27.84810127,   29.11392405,\n",
       "         30.37974684,   31.64556962,   32.91139241,   34.17721519,\n",
       "         35.44303797,   36.70886076,   37.97468354,   39.24050633,\n",
       "         40.50632911,   41.7721519 ,   43.03797468,   44.30379747,\n",
       "         45.56962025,   46.83544304,   48.10126582,   49.36708861,\n",
       "         50.63291139,   51.89873418,   53.16455696,   54.43037975,\n",
       "         55.69620253,   56.96202532,   58.2278481 ,   59.49367089,\n",
       "         60.75949367,   62.02531646,   63.29113924,   64.55696203,\n",
       "         65.82278481,   67.08860759,   68.35443038,   69.62025316,\n",
       "         70.88607595,   72.15189873,   73.41772152,   74.6835443 ,\n",
       "         75.94936709,   77.21518987,   78.48101266,   79.74683544,\n",
       "         81.01265823,   82.27848101,   83.5443038 ,   84.81012658,\n",
       "         86.07594937,   87.34177215,   88.60759494,   89.87341772,\n",
       "         91.13924051,   92.40506329,   93.67088608,   94.93670886,\n",
       "         96.20253165,   97.46835443,   98.73417722,  100.        ])"
      ]
     },
     "execution_count": 84,
     "metadata": {},
     "output_type": "execute_result"
    }
   ],
   "source": [
    "#np.linspace is used to generate numbers which are represented as a line\n",
    "# Also, the numbers are spaced at regular intervals\n",
    "# structure: np.linspace(start, stop, num)\n",
    "# Here 'num' argument represents values to be returned between start and stop\n",
    "# We are giving len(x) which is 80 as both stop and num (so that they have same length)\n",
    "\n",
    "y = np.linspace(0, 100, len(x))\n",
    "len(y)\n",
    "y"
   ]
  },
  {
   "cell_type": "code",
   "execution_count": 85,
   "metadata": {},
   "outputs": [
    {
     "data": {
      "text/plain": [
       "[<matplotlib.lines.Line2D at 0x11211af98>]"
      ]
     },
     "execution_count": 85,
     "metadata": {},
     "output_type": "execute_result"
    },
    {
     "data": {
      "image/png": "[encoded data removed]",
      "text/plain": [
       "<matplotlib.figure.Figure at 0x11168e6a0>"
      ]
     },
     "metadata": {},
     "output_type": "display_data"
    }
   ],
   "source": [
    "plt.plot(x, y, color='orange')\n",
    "plt.show()\n",
    "# This is a simple plot showing how y changes with different values of x linearly\n",
    "#Linear function is mathematical formula of linear regression \n",
    "# Mathematical formula of Linear function: y = mx + c\n",
    "# c is point at which this line cuts y-axis (value of y where x=0)\n",
    "# m is slope (the ratio of vertical and horizontal changes between 2 datapoints)"
   ]
  },
  {
   "cell_type": "markdown",
   "metadata": {},
   "source": [
    "#### Sigmoid Function"
   ]
  },
  {
   "cell_type": "code",
   "execution_count": 43,
   "metadata": {},
   "outputs": [],
   "source": [
    "import math\n",
    "\n",
    "# Writing a function to apply mathematical formula of sigmoid function on x to get y\n",
    "# Mathematical formula of sigmoid function: y = 1/(1+e^–x)\n",
    "#Sigmoid function is mathematical formula of logistic regression\n",
    "\n",
    "def sigmoid(x_values):\n",
    "    y_values = []\n",
    "    for i in x_values:\n",
    "        y_values.append(1/(1+math.exp(-i)))\n",
    "    return y_values"
   ]
  },
  {
   "cell_type": "code",
   "execution_count": 57,
   "metadata": {
    "scrolled": false
   },
   "outputs": [
    {
     "data": {
      "text/plain": [
       "array([-20. , -19.5, -19. , -18.5, -18. , -17.5, -17. , -16.5, -16. ,\n",
       "       -15.5, -15. , -14.5, -14. , -13.5, -13. , -12.5, -12. , -11.5,\n",
       "       -11. , -10.5, -10. ,  -9.5,  -9. ,  -8.5,  -8. ,  -7.5,  -7. ,\n",
       "        -6.5,  -6. ,  -5.5,  -5. ,  -4.5,  -4. ,  -3.5,  -3. ,  -2.5,\n",
       "        -2. ,  -1.5,  -1. ,  -0.5,   0. ,   0.5,   1. ,   1.5,   2. ,\n",
       "         2.5,   3. ,   3.5,   4. ,   4.5,   5. ,   5.5,   6. ,   6.5,\n",
       "         7. ,   7.5,   8. ,   8.5,   9. ,   9.5,  10. ,  10.5,  11. ,\n",
       "        11.5,  12. ,  12.5,  13. ,  13.5,  14. ,  14.5,  15. ,  15.5,\n",
       "        16. ,  16.5,  17. ,  17.5,  18. ,  18.5,  19. ,  19.5])"
      ]
     },
     "execution_count": 57,
     "metadata": {},
     "output_type": "execute_result"
    }
   ],
   "source": [
    "# Creating an array to plot x-axis values\n",
    "data_points = np.arange(-20, 20, 0.5)\n",
    "data_points"
   ]
  },
  {
   "cell_type": "code",
   "execution_count": 58,
   "metadata": {},
   "outputs": [],
   "source": [
    "#calculating y axis values to be plotted using sigmoid function\n",
    "s = sigmoid(data_points)"
   ]
  },
  {
   "cell_type": "code",
   "execution_count": 60,
   "metadata": {
    "scrolled": true
   },
   "outputs": [
    {
     "data": {
      "image/png": "[encoded data removed]",
      "text/plain": [
       "<matplotlib.figure.Figure at 0x1112f81d0>"
      ]
     },
     "metadata": {},
     "output_type": "display_data"
    }
   ],
   "source": [
    "plt.plot(data_points,s,color='green')\n",
    "plt.show()\n",
    "## simple plot showing how binary variable y changes with different values of x"
   ]
  },
  {
   "cell_type": "markdown",
   "metadata": {},
   "source": [
    "#Reference: https://squall0032.tumblr.com/post/77300791096/plotting-a-sigmoid-function-using"
   ]
  },
  {
   "cell_type": "markdown",
   "metadata": {},
   "source": [
    "# End"
   ]
  }
 ],
 "metadata": {
  "kernelspec": {
   "display_name": "Python 3",
   "language": "python",
   "name": "python3"
  },
  "language_info": {
   "codemirror_mode": {
    "name": "ipython",
    "version": 3
   },
   "file_extension": ".py",
   "mimetype": "text/x-python",
   "name": "python",
   "nbconvert_exporter": "python",
   "pygments_lexer": "ipython3",
   "version": "3.6.3"
  }
 },
 "nbformat": 4,
 "nbformat_minor": 4
}
